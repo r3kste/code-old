{
 "cells":[
  {
   "cell_type":"markdown",
   "source":[
    "# Task_1\n",
    "\n",
    "Made by: Anton Beny M S"
   ],
   "attachments":{
    
   },
   "metadata":{
    "datalore":{
     "node_id":"6ogOLpYUnSbqlyvip4o1Ml",
     "type":"MD",
     "hide_input_from_viewers":true,
     "hide_output_from_viewers":true
    }
   }
  },
  {
   "cell_type":"markdown",
   "source":[
    "In this notebook, we are going to understand Data Visualization using mathematical models."
   ],
   "attachments":{
    
   },
   "metadata":{
    "datalore":{
     "node_id":"pGH2Oq7u6iS2hVWWPTlUuO",
     "type":"MD",
     "hide_input_from_viewers":true,
     "hide_output_from_viewers":true
    }
   }
  },
  {
   "cell_type":"markdown",
   "source":[
    "Firstly, we are going to import our necessary libraries and configure them."
   ],
   "attachments":{
    
   },
   "metadata":{
    "datalore":{
     "node_id":"8PJANpQ43SQXtERkzvNllo",
     "type":"MD",
     "hide_input_from_viewers":true,
     "hide_output_from_viewers":true
    }
   }
  },
  {
   "cell_type":"code",
   "source":[
    "import statistics\n",
    "\n",
    "#!pip install lets-plot -U\n",
    "import lets_plot as lplt\n",
    "import matplotlib.pyplot as plt\n",
    "import numpy as np\n",
    "import pandas as pd\n",
    "\n",
    "plt.style.use('dark_background')"
   ],
   "execution_count":null,
   "outputs":[
    
   ],
   "metadata":{
    "datalore":{
     "node_id":"CNrxrrCciCKTNfPTODFUcr",
     "type":"CODE",
     "hide_input_from_viewers":true,
     "hide_output_from_viewers":true
    }
   }
  },
  {
   "cell_type":"markdown",
   "source":[
    "## Data"
   ],
   "attachments":{
    
   },
   "metadata":{
    "datalore":{
     "node_id":"0A92C7oDAULGKgxQR7HzXT",
     "type":"MD",
     "hide_input_from_viewers":true,
     "hide_output_from_viewers":true
    }
   }
  },
  {
   "cell_type":"markdown",
   "source":[
    "Now we are going to import pre-existing data in the form of a .csv file."
   ],
   "attachments":{
    
   },
   "metadata":{
    "datalore":{
     "node_id":"rlBzDuFjWEYMrPhJYZoKaS",
     "type":"MD",
     "hide_input_from_viewers":true,
     "hide_output_from_viewers":true
    }
   }
  },
  {
   "cell_type":"code",
   "source":[
    "data = pd.read_csv('https:\/\/raw.githubusercontent.com\/r3kste\/AIC\/main\/Task_1\/data\/data.csv')\n",
    "data"
   ],
   "execution_count":null,
   "outputs":[
    
   ],
   "metadata":{
    "datalore":{
     "node_id":"yyZZ5Cj0F1iuOrVsKe6lHx",
     "type":"CODE",
     "hide_input_from_viewers":true,
     "hide_output_from_viewers":true
    }
   }
  },
  {
   "cell_type":"markdown",
   "source":[
    "Now, that we have our data, lets see some of its statistics"
   ],
   "attachments":{
    
   },
   "metadata":{
    "datalore":{
     "node_id":"Os1lUVEFwSkZJhALNkHB5H",
     "type":"MD",
     "hide_input_from_viewers":true,
     "hide_output_from_viewers":true
    }
   }
  },
  {
   "cell_type":"code",
   "source":[
    "data.describe()"
   ],
   "execution_count":null,
   "outputs":[
    
   ],
   "metadata":{
    "datalore":{
     "node_id":"p6dvXAVCWqUqD6ZrjyS9Os",
     "type":"CODE",
     "hide_input_from_viewers":true,
     "hide_output_from_viewers":true
    }
   }
  },
  {
   "cell_type":"markdown",
   "source":[
    "### Inferences\n",
    "* The 75th percentile of **Age** is 28.5. This means that 75% of the total employees who left are within the age group 24-28."
   ],
   "attachments":{
    
   },
   "metadata":{
    "datalore":{
     "node_id":"7cppVCByhRu1iYzpPGFXou",
     "type":"MD",
     "hide_input_from_viewers":true,
     "hide_output_from_viewers":true
    }
   }
  },
  {
   "cell_type":"markdown",
   "source":[
    "## Distribution of Employees"
   ],
   "attachments":{
    
   },
   "metadata":{
    "datalore":{
     "node_id":"R23tcDO6EvRuCE0lWyEcI6",
     "type":"MD",
     "hide_input_from_viewers":true,
     "hide_output_from_viewers":true
    }
   }
  },
  {
   "cell_type":"markdown",
   "source":[
    "Now, let us first know about the distribution of the employees."
   ],
   "attachments":{
    
   },
   "metadata":{
    "datalore":{
     "node_id":"hf51McCk1wwIlAvZ6PpY5l",
     "type":"MD",
     "hide_input_from_viewers":true,
     "hide_output_from_viewers":true
    }
   }
  },
  {
   "cell_type":"code",
   "source":[
    "lplt.ggplot(data) + lplt.geom_point(lplt.aes(x=\"Education\", y=\"Age\", color=\"Gender\")) + lplt.flavor_high_contrast_dark()"
   ],
   "execution_count":null,
   "outputs":[
    
   ],
   "metadata":{
    "datalore":{
     "node_id":"PldQov6rtzd9OltYvOy0T1",
     "type":"CODE",
     "hide_input_from_viewers":true,
     "hide_output_from_viewers":true
    }
   }
  },
  {
   "cell_type":"code",
   "source":[
    "#Frequency Table of Some Fields\n",
    "\n",
    "n_male = len(data.loc[data['Gender'] == 'Male'])\n",
    "n_female = len(data.loc[data['Gender'] == 'Female'])\n",
    "\n",
    "n_bach = len(data.loc[data['Education'] == 'Bachelors'])\n",
    "n_mba = len(data.loc[data['Education'] == 'MBA'])\n",
    "\n",
    "print('Number of:\\n\\nMale:', n_male, '\\nFemale:', n_female, '\\n\\nBachelors:', n_bach, '\\nMBA:', n_mba)"
   ],
   "execution_count":null,
   "outputs":[
    
   ],
   "metadata":{
    "datalore":{
     "node_id":"3FQMJe7rPXfF0NuILt7jwr",
     "type":"CODE",
     "hide_input_from_viewers":true,
     "hide_output_from_viewers":true
    }
   }
  },
  {
   "cell_type":"markdown",
   "source":[
    "### Inferences\n",
    "* Male to Female Ratio is around: 17:1 which is (coincidentally) exactly equal to the Ratio of People having Bachelors Degree to those having a MBA Degree\n",
    "* It is clear, that the younger employees, from the ages of 24 to 35, only had a Bachelor's Degree"
   ],
   "attachments":{
    
   },
   "metadata":{
    "datalore":{
     "node_id":"q1zCcuGknVZjCKbaNMnG5S",
     "type":"MD",
     "hide_input_from_viewers":true,
     "hide_output_from_viewers":true
    }
   }
  },
  {
   "cell_type":"markdown",
   "source":[
    "## Age of Employees"
   ],
   "attachments":{
    
   },
   "metadata":{
    "datalore":{
     "node_id":"kbiAGOb0y6W6F2NG8a7y8L",
     "type":"MD",
     "hide_input_from_viewers":true,
     "hide_output_from_viewers":true
    }
   }
  },
  {
   "cell_type":"markdown",
   "source":[
    "Now, lets visualize our data, in terms of the employees' age."
   ],
   "attachments":{
    
   },
   "metadata":{
    "datalore":{
     "node_id":"joeY5vmHL5srEjKuKpACsg",
     "type":"MD",
     "hide_input_from_viewers":true,
     "hide_output_from_viewers":true
    }
   }
  },
  {
   "cell_type":"code",
   "source":[
    "#Ages\n",
    "age = list(set(sorted(data['Age'])))\n",
    "print('Age:\\t', age)\n",
    "\n",
    "#Frequency Table of Ages\n",
    "c_age = np.array(data.groupby('Age').size())\n",
    "print('c_Age:\\t', c_age)"
   ],
   "execution_count":null,
   "outputs":[
    
   ],
   "metadata":{
    "datalore":{
     "node_id":"kgf2VsBoKjU5HcYCqLKrls",
     "type":"CODE",
     "hide_input_from_viewers":true,
     "hide_output_from_viewers":true
    }
   }
  },
  {
   "cell_type":"markdown",
   "source":[
    "Now, lets plot a bar graph between Age and Frequency, to further understand the distribution of the employees."
   ],
   "attachments":{
    
   },
   "metadata":{
    "datalore":{
     "node_id":"wfudvQQ0IK6hedizr3wegY",
     "type":"MD",
     "hide_input_from_viewers":true,
     "hide_output_from_viewers":true
    }
   }
  },
  {
   "cell_type":"code",
   "source":[
    "fig, ax = plt.subplots()\n",
    "ax.set_title('Age vs Frequency', fontsize=20)\n",
    "ax.set_xlabel('Age', fontsize=12)\n",
    "ax.set_ylabel('Frequency', fontsize=12)\n",
    "\n",
    "plt.bar(age, c_age, width=0.5)\n",
    "plt.show()"
   ],
   "execution_count":null,
   "outputs":[
    
   ],
   "metadata":{
    "datalore":{
     "node_id":"TZvWbASbr1avHmKcyIMBH5",
     "type":"CODE",
     "hide_input_from_viewers":true,
     "hide_output_from_viewers":true
    }
   }
  },
  {
   "cell_type":"markdown",
   "source":[
    "### Inferences\n",
    "\n",
    "* As mentioned earlier, it is evident that most of the employees who left are within the age group from 24 to 28.\n",
    "* After Age 28, as we move along the x-axis, the Age increases, however, the number of employees leaving keep fluctuating, but nevertheless, does not come close to those from 24-28."
   ],
   "attachments":{
    
   },
   "metadata":{
    "datalore":{
     "node_id":"VupF3CMdcgagg2mk98VLRO",
     "type":"MD",
     "hide_input_from_viewers":true,
     "hide_output_from_viewers":true
    }
   }
  },
  {
   "cell_type":"markdown",
   "source":[
    "## Reasons for Leaving"
   ],
   "attachments":{
    
   },
   "metadata":{
    "datalore":{
     "node_id":"Xr0ZC4nzWUUGdo2KpNhdKq",
     "type":"MD",
     "hide_input_from_viewers":true,
     "hide_output_from_viewers":true
    }
   }
  },
  {
   "cell_type":"markdown",
   "source":[
    "Now, lets try to find out the major reasons why these people left their jobs.<br><br>\n",
    "We will split the population into two groups: <br>\n",
    "*Group One:* consisting the Age group 24 to 28. <br>\n",
    "*Group Two:* the other, consists the Ages 29 and above."
   ],
   "attachments":{
    
   },
   "metadata":{
    "datalore":{
     "node_id":"LHL2GcLrr3sVhP7O27tUIE",
     "type":"MD",
     "hide_input_from_viewers":true,
     "hide_output_from_viewers":true
    }
   }
  },
  {
   "cell_type":"code",
   "source":[
    "#Group1\n",
    "data1 = data.loc[data['Age'] < 29]\n",
    "data1 = data1.sort_values(['Remarks'], ascending=True)\n",
    "data1.sort_values(['S.No'], ascending=True)"
   ],
   "execution_count":null,
   "outputs":[
    
   ],
   "metadata":{
    "datalore":{
     "node_id":"PjCR4Ibs6aWXrZFmunUVdd",
     "type":"CODE",
     "hide_input_from_viewers":true,
     "hide_output_from_viewers":true
    }
   }
  },
  {
   "cell_type":"code",
   "source":[
    "#Group2\n",
    "data2 = data.loc[data['Age'] > 28]\n",
    "data2 = data2.sort_values(['Remarks'], ascending=True)\n",
    "data2.sort_values(['S.No'], ascending=True)"
   ],
   "execution_count":null,
   "outputs":[
    
   ],
   "metadata":{
    "datalore":{
     "node_id":"Etd0H5t7zeW6QsVsSwVjXH",
     "type":"CODE",
     "hide_input_from_viewers":true,
     "hide_output_from_viewers":true
    }
   }
  },
  {
   "cell_type":"code",
   "source":[
    "#List of possible reasons for leaving the company\n",
    "remarks = sorted(list(set(data['Remarks'][:])))\n",
    "print(remarks)"
   ],
   "execution_count":null,
   "outputs":[
    
   ],
   "metadata":{
    "datalore":{
     "node_id":"HMHgUGThPb3rjViYewg7So",
     "type":"CODE",
     "hide_input_from_viewers":true,
     "hide_output_from_viewers":true
    }
   }
  },
  {
   "cell_type":"code",
   "source":[
    "# Finding the frequency of each Remark, and storing it\n",
    "\n",
    "c_remarks = np.array(data.groupby('Remarks').size())  # Overall\n",
    "print(\"c_remarks:\\t\", c_remarks)\n",
    "\n",
    "c_remarks1 = np.array(data1.groupby('Remarks').size())  # Group One\n",
    "print(\"c_remarks1:\\t\", c_remarks1)\n",
    "\n",
    "c_remarks2 = np.subtract(c_remarks, c_remarks1)  # Group Two\n",
    "print(\"c_remarks2:\\t\", c_remarks2)"
   ],
   "execution_count":null,
   "outputs":[
    
   ],
   "metadata":{
    "datalore":{
     "node_id":"MDyhxAqW9I17TvIWegzsxv",
     "type":"CODE",
     "hide_input_from_viewers":true,
     "hide_output_from_viewers":true
    }
   }
  },
  {
   "cell_type":"markdown",
   "source":[
    "Now, lets plot the above data as a bar graph."
   ],
   "attachments":{
    
   },
   "metadata":{
    "datalore":{
     "node_id":"2paoyePAu60Pu54TFwUVDq",
     "type":"MD",
     "hide_input_from_viewers":true,
     "hide_output_from_viewers":true
    }
   }
  },
  {
   "cell_type":"code",
   "source":[
    "fig, ax = plt.subplots()\n",
    "ax.set_title(\"Reasons for Leaving among Age Groups\", fontsize=20)\n",
    "ax.set_xlabel(\"AGE\", fontsize=14)\n",
    "ax.set_ylabel(\"Remarks\", fontsize=14)\n",
    "\n",
    "plt.barh(remarks, c_remarks, height=0.8, label='Overall')  # Overall\n",
    "plt.barh(remarks, c_remarks1, height=0.5, label='Age <= 28', color='#446399')  # Group One\n",
    "plt.barh(remarks, c_remarks2, height=0.2, label='Age >= 29', color='#1a1a44')  # Group Two\n",
    "\n",
    "plt.legend()\n",
    "plt.show()"
   ],
   "execution_count":null,
   "outputs":[
    
   ],
   "metadata":{
    "datalore":{
     "node_id":"YMQDjTWPqmRHaiKsT2iuiR",
     "type":"CODE",
     "hide_input_from_viewers":true,
     "hide_output_from_viewers":true
    }
   }
  },
  {
   "cell_type":"markdown",
   "source":[
    "## Inferences\n",
    "\n",
    "#### Overall\n",
    "* The major reason for Leaving the Job seems to be **\"Issues with the Manager\"**, which is closely followed by the employees remarking that they left because of their \"Lack of Growth\".\n",
    "* The next major reason is **\"More Challenging Job Roles\/Higher designation\"**, followed by \"Better Salary\".\n",
    "* The other reasons are seemingly less significant.\n",
    "* Most of these can be explained in terms of work experience and environment.\n",
    "\n",
    "\n",
    "#### Group One\n",
    "* For Group One, the major reason is **\"Issues with the Manager\"**, which is closely followed by \"Lack of Growth\". This is similar to the overall demographic as well.\n",
    "* For Group One, the other reasons are not as significant as the first two.\n",
    "* It is evident that Group One is the major faction among the people who left due to **\"Issues with the Manager\"**.\n",
    "* This is understandable given that these are the younger employees, with little to no previous experience, and desire to attain their maximum possible potential and growth.\n",
    "                                                                                    \n",
    "#### Group Two\n",
    "* For Group Two, the major reason is **\"Lack of Growth\"** which is closely followed by **\"More Challenging Job Roles\/Higher designation\"**.\n",
    "* Unlike Group One, much fewer individuals from Group Two reported **\"Issues with the Manager\"**.\n",
    "* It is clear that Group Two individuals the major faction among those who left for a **\"More Challenging Job Roles\/Higher designation\"**.\n",
    "* Once again, this is understandable, considering that Group Two is the more experienced set of employees, who understand the work environment, and looking for better roles.\n",
    "* There are little to zero employees in Group Two, who left for these following reasons: **\"Termination - Theft\"**, **\"Termination - Poor Performance\"**, **\"Higher Education\"** and **\"Absconding\"**"
   ],
   "attachments":{
    
   },
   "metadata":{
    "datalore":{
     "node_id":"hcpnt93TWaLarYfHsBWafP",
     "type":"MD",
     "hide_input_from_viewers":true,
     "hide_output_from_viewers":true
    }
   }
  },
  {
   "cell_type":"markdown",
   "source":[
    "## Monthly Income"
   ],
   "attachments":{
    
   },
   "metadata":{
    "datalore":{
     "node_id":"22Uj9E4V0s15Tpesi0Fu1T",
     "type":"MD",
     "hide_input_from_viewers":true,
     "hide_output_from_viewers":true
    }
   }
  },
  {
   "cell_type":"markdown",
   "source":[
    "Now, lets look at one of the more important data, which is the **Monthly Income**."
   ],
   "attachments":{
    
   },
   "metadata":{
    "datalore":{
     "node_id":"Ejnln4Eweg5ksk5fjPYOvg",
     "type":"MD",
     "hide_input_from_viewers":true,
     "hide_output_from_viewers":true
    }
   }
  },
  {
   "cell_type":"code",
   "source":[
    "# List to store average monthly income of people of various age groups.\n",
    "minco0 = []\n",
    "for i in list(set(age)):\n",
    "    temp = data.loc[data['Age'] == i, 'Monthly Income']\n",
    "    minco0.append(np.mean(temp))\n",
    "\n",
    "pd.DataFrame(list(zip(age, minco0)), columns=['Age', 'Average Monthly Income'])"
   ],
   "execution_count":null,
   "outputs":[
    
   ],
   "metadata":{
    "datalore":{
     "node_id":"PAGShYAFuNJ0QXTwidq9Uf",
     "type":"CODE",
     "hide_input_from_viewers":true,
     "hide_output_from_viewers":true
    }
   }
  },
  {
   "cell_type":"markdown",
   "source":[
    "Now, let us plot a bar graph of Age vs Monthly Income"
   ],
   "attachments":{
    
   },
   "metadata":{
    "datalore":{
     "node_id":"QwrspZe9COxwPuXCuEvqdT",
     "type":"MD",
     "hide_input_from_viewers":true,
     "hide_output_from_viewers":true
    }
   }
  },
  {
   "cell_type":"code",
   "source":[
    "lplt.ggplot(data) + lplt.geom_point(\n",
    "    lplt.aes(color=\"Education\", y=\"Monthly Income\", x=\"Age\")) + lplt.flavor_high_contrast_dark()"
   ],
   "execution_count":null,
   "outputs":[
    
   ],
   "metadata":{
    "datalore":{
     "node_id":"xwjYfcPIVpA83I7zNX1IXm",
     "type":"CODE",
     "hide_input_from_viewers":true,
     "hide_output_from_viewers":true
    }
   }
  },
  {
   "cell_type":"code",
   "source":[
    "fig, ax = plt.subplots()\n",
    "ax.set_title(\"Age vs Average Monthly Income\", fontsize=20)\n",
    "ax.set_xlabel(\"AGE\", fontsize=12)\n",
    "ax.set_ylabel(\"Average Monthly Income\", fontsize=12)\n",
    "\n",
    "plt.bar(age, minco0, width=0.5)\n",
    "plt.show()"
   ],
   "execution_count":null,
   "outputs":[
    
   ],
   "metadata":{
    "datalore":{
     "node_id":"GgRik6obnfuKOdwP50RyyH",
     "type":"CODE",
     "hide_input_from_viewers":true,
     "hide_output_from_viewers":true
    }
   }
  },
  {
   "cell_type":"markdown",
   "source":[
    "Now, it is clear that **ABC197**, the **\"CXO\"** is an outlier, with an Average Monthly Income of 2.3 L, and is skewing our data. So let us remove this entry for now."
   ],
   "attachments":{
    
   },
   "metadata":{
    "datalore":{
     "node_id":"jSX6PYbg1b6a2b6mTS80AP",
     "type":"MD",
     "hide_input_from_viewers":true,
     "hide_output_from_viewers":true
    }
   }
  },
  {
   "cell_type":"code",
   "source":[
    "fig, ax = plt.subplots()\n",
    "ax.set_title(\"Age vs Average Monthly Income\", fontsize=20)\n",
    "ax.set_xlabel(\"AGE\", fontsize=12)\n",
    "ax.set_ylabel(\"Average Monthly Income\", fontsize=12)\n",
    "\n",
    "cp_age = [x for x in age if x != age[-1]]\n",
    "cp_minco0 = [x for x in minco0 if x != minco0[-1]]\n",
    "\n",
    "plt.bar(cp_age, cp_minco0, width=0.5)\n",
    "plt.show()"
   ],
   "execution_count":null,
   "outputs":[
    
   ],
   "metadata":{
    "datalore":{
     "node_id":"gY8TvjRv9hrtCEzf8vqRUg",
     "type":"CODE",
     "hide_input_from_viewers":true,
     "hide_output_from_viewers":true
    }
   }
  },
  {
   "cell_type":"markdown",
   "source":[
    "This is much better...\n",
    "             \n",
    "### Inferences\n",
    "\n",
    "* Correlation between Age and Salary:<br>It is clear that in Group One, that is from ages 24 to 28, there is little to zero correlation between age and salary, that is, the average income doesn't change with change in Age.<br>However, from ages 29 and above, that is Group Two, there is a strong correlation between these two, that is, average income increases with increase in Age."
   ],
   "attachments":{
    
   },
   "metadata":{
    "datalore":{
     "node_id":"iVXhfXFRjTOlUTXsqmVMqA",
     "type":"MD",
     "hide_input_from_viewers":true,
     "hide_output_from_viewers":true
    }
   }
  },
  {
   "cell_type":"markdown",
   "source":[
    "## Grades and Designation"
   ],
   "attachments":{
    
   },
   "metadata":{
    "datalore":{
     "node_id":"DAbtIav2Nl2n86od3HVGdH",
     "type":"MD",
     "hide_input_from_viewers":true,
     "hide_output_from_viewers":true
    }
   }
  },
  {
   "cell_type":"markdown",
   "source":[
    "Now, let us explore a bit on the side of **Grade** and **Designation**"
   ],
   "attachments":{
    
   },
   "metadata":{
    "datalore":{
     "node_id":"jdZId8rz9h49QhZXGgbOSo",
     "type":"MD",
     "hide_input_from_viewers":true,
     "hide_output_from_viewers":true
    }
   }
  },
  {
   "cell_type":"code",
   "source":[
    "cp_data = data.sort_values(['Grade'], ascending=True)  # Make a copy of original Dataframe\n",
    "cp_cp_data = cp_data.iloc[[0][:]]  # Reindex the required rows\n",
    "cp_data = cp_data.drop(cp_data.index[0])\n",
    "cp_data = pd.concat([cp_data, cp_cp_data])\n",
    "del cp_cp_data  # Delete temporary dataframe\n",
    "cp_data  # Dataframe with \"Grade\" sorted according to \"E1<E2<M1<M2<M3<M4<CXO\""
   ],
   "execution_count":null,
   "outputs":[
    
   ],
   "metadata":{
    "datalore":{
     "node_id":"ofYXb9jaSaxkGnha7122nY",
     "type":"CODE",
     "hide_input_from_viewers":true,
     "hide_output_from_viewers":true
    }
   }
  },
  {
   "cell_type":"markdown",
   "source":[
    "Now, let us see the relation between Grade and Designation."
   ],
   "attachments":{
    
   },
   "metadata":{
    "datalore":{
     "node_id":"yDsxXvQ1M9lzUto9vwBQ99",
     "type":"MD",
     "hide_input_from_viewers":true,
     "hide_output_from_viewers":true
    }
   }
  },
  {
   "cell_type":"code",
   "source":[
    "grade = sorted(list(set(data.Grade)))\n",
    "grade.append(grade.pop(0))\n",
    "print(grade)"
   ],
   "execution_count":null,
   "outputs":[
    
   ],
   "metadata":{
    "datalore":{
     "node_id":"IXOOX0Rc7rK2cQToRoo0Dn",
     "type":"CODE",
     "hide_input_from_viewers":true,
     "hide_output_from_viewers":true
    }
   }
  },
  {
   "cell_type":"code",
   "source":[
    "designation = []\n",
    "for i in range(0, len(grade)):\n",
    "    temp = list(data.loc[data['Grade'] == grade[i], 'Designation'])\n",
    "    designation.append(temp[0])\n",
    "print(designation)"
   ],
   "execution_count":null,
   "outputs":[
    
   ],
   "metadata":{
    "datalore":{
     "node_id":"xtwSKOfu8toMbUK7sF6fxu",
     "type":"CODE",
     "hide_input_from_viewers":true,
     "hide_output_from_viewers":true
    }
   }
  },
  {
   "cell_type":"code",
   "source":[
    "pd.DataFrame(list(zip(grade, designation)), columns=['Grade', 'Designation'])"
   ],
   "execution_count":null,
   "outputs":[
    
   ],
   "metadata":{
    "datalore":{
     "node_id":"4t8CmdaGnS5AIgyYeFoaxi",
     "type":"CODE",
     "hide_input_from_viewers":true,
     "hide_output_from_viewers":true
    }
   }
  },
  {
   "cell_type":"markdown",
   "source":[
    "Now, let us compare **Age**, **Grade** and **Designation** together."
   ],
   "attachments":{
    
   },
   "metadata":{
    "datalore":{
     "node_id":"OTOZdZYjP6kAiJ1FzzTPUC",
     "type":"MD",
     "hide_input_from_viewers":true,
     "hide_output_from_viewers":true
    }
   }
  },
  {
   "cell_type":"code",
   "source":[
    "gr = []\n",
    "design = []\n",
    "\n",
    "for i in age:\n",
    "    gr.append(statistics.mode(list(data.loc[data['Age'] == i, 'Grade'])))\n",
    "    design.append(statistics.mode(list(data.loc[data['Age'] == i, 'Designation'])))\n",
    "\n",
    "pd.DataFrame(list(zip(age, gr, design)), columns=['Age', 'Grade', 'Design'])"
   ],
   "execution_count":null,
   "outputs":[
    
   ],
   "metadata":{
    "datalore":{
     "node_id":"Sp2QinV6d9fNzm55k3RJDe",
     "type":"CODE",
     "hide_input_from_viewers":true,
     "hide_output_from_viewers":true
    }
   }
  },
  {
   "cell_type":"code",
   "source":[
    "fig, ax = plt.subplots()\n",
    "ax.set_title(\"Age vs Grade\", fontsize=20)\n",
    "ax.set_xlabel(\"AGE\", fontsize=12)\n",
    "ax.set_ylabel(\"GRADE\", fontsize=12)\n",
    "\n",
    "plt.plot(age, gr, '8')\n",
    "plt.show()"
   ],
   "execution_count":null,
   "outputs":[
    
   ],
   "metadata":{
    "datalore":{
     "node_id":"ihtHqkk0blx1aSGtqkuM07",
     "type":"CODE",
     "hide_input_from_viewers":true,
     "hide_output_from_viewers":true
    }
   }
  },
  {
   "cell_type":"markdown",
   "source":[
    "### Inference\n",
    "*It doesn't take a genius to observe that the **Grade** has a strong correlation with **Age** and therefore, work experience, which inturn results in promotions to better designations and a better salary."
   ],
   "attachments":{
    
   },
   "metadata":{
    "datalore":{
     "node_id":"mSUv4G4bgxzKElQECfS1Ij",
     "type":"MD",
     "hide_input_from_viewers":true,
     "hide_output_from_viewers":true
    }
   }
  },
  {
   "cell_type":"markdown",
   "source":[
    "## Last Rating"
   ],
   "attachments":{
    
   },
   "metadata":{
    "datalore":{
     "node_id":"DitnzBQErI9nwiJSYkvJjG",
     "type":"MD",
     "hide_input_from_viewers":true,
     "hide_output_from_viewers":true
    }
   }
  },
  {
   "cell_type":"markdown",
   "source":[
    "Now, let us look into some of the other data provided to us, starting with **Last Rating**."
   ],
   "attachments":{
    
   },
   "metadata":{
    "datalore":{
     "node_id":"XZAbIua0FAxWyWolRJwmvU",
     "type":"MD",
     "hide_input_from_viewers":true,
     "hide_output_from_viewers":true
    }
   }
  },
  {
   "cell_type":"code",
   "source":[
    "last_rating = [1, 2, 3, 4, 5]\n",
    "minco = []\n",
    "\n",
    "for i in last_rating:\n",
    "    temp = data.loc[data['Last Rating'] == i, 'Monthly Income']\n",
    "    minco.append(np.mean(temp))\n",
    "\n",
    "pd.DataFrame(list(zip(last_rating, minco)), columns=['Last Rating', 'Average Monthly Income'])"
   ],
   "execution_count":null,
   "outputs":[
    
   ],
   "metadata":{
    "datalore":{
     "node_id":"TWjzL65xM1VgVzbKcFBEb0",
     "type":"CODE",
     "hide_input_from_viewers":true,
     "hide_output_from_viewers":true
    }
   }
  },
  {
   "cell_type":"code",
   "source":[
    "fig, ax = plt.subplots()\n",
    "ax.set_title(\"Last Rating vs Monthly Income\", fontsize=20)\n",
    "ax.set_xlabel(\"LAST RATING\", fontsize=12)\n",
    "ax.set_ylabel(\"AVERAGE MONTHLY INCOME\", fontsize=12)\n",
    "\n",
    "plt.plot(last_rating, minco, '8-.')\n",
    "plt.show()"
   ],
   "execution_count":null,
   "outputs":[
    
   ],
   "metadata":{
    "datalore":{
     "node_id":"17yRpjXyV3pBd4TdGTBOc0",
     "type":"CODE",
     "hide_input_from_viewers":true,
     "hide_output_from_viewers":true
    }
   }
  },
  {
   "cell_type":"markdown",
   "source":[
    "### Inference\n",
    "* We know that a rating of 1: Poor and 5: Excellent\n",
    "* This plot seems to imply that those with the last rating of 3 have a higher average income than those with 5.\n",
    "* We can clearly see that this doesn't make any sense.\n",
    "\n",
    "### Explanation\n",
    "* One reason the average income of the people with the last rating of 3 is high, is due to our **\"CXO\"** outlier, **Mr. ABC197**\n",
    "* Another reason, could be that the employees with a higher rating are just less likely to leave (especially the ones with a better salary), because they are most probably happy with their job. So this is not a complete representation of all the people working at the company."
   ],
   "attachments":{
    
   },
   "metadata":{
    "datalore":{
     "node_id":"qf77fHgwQYbhvQlmqVxyL6",
     "type":"MD",
     "hide_input_from_viewers":true,
     "hide_output_from_viewers":true
    }
   }
  },
  {
   "cell_type":"markdown",
   "source":[
    "Let's try to plot the same graph, but this time, excluding **Mr. ABC197**"
   ],
   "attachments":{
    
   },
   "metadata":{
    "datalore":{
     "node_id":"Cz4hjzw6ydU20n5dDzmKLR",
     "type":"MD",
     "hide_input_from_viewers":true,
     "hide_output_from_viewers":true
    }
   }
  },
  {
   "cell_type":"code",
   "source":[
    "minco = []\n",
    "b_data = data.drop(196)\n",
    "\n",
    "for i in last_rating:\n",
    "    temp = b_data.loc[data['Last Rating'] == i, 'Monthly Income']\n",
    "    minco.append(np.mean(temp))\n",
    "\n",
    "pd.DataFrame(list(zip(last_rating, minco)), columns=['Age', 'Average Monthly Income'])"
   ],
   "execution_count":null,
   "outputs":[
    
   ],
   "metadata":{
    "datalore":{
     "node_id":"II8g3L2UeHIkauLn2b203E",
     "type":"CODE",
     "hide_input_from_viewers":true,
     "hide_output_from_viewers":true
    }
   }
  },
  {
   "cell_type":"code",
   "source":[
    "fig, ax = plt.subplots()\n",
    "ax.set_title(\"Last Rating vs Monthly Income\", fontsize=20)\n",
    "ax.set_xlabel(\"LAST RATING\", fontsize=12)\n",
    "ax.set_ylabel(\"AVERAGE MONTHLY INCOME\", fontsize=12)\n",
    "\n",
    "plt.plot(last_rating, minco, '8-.')\n",
    "plt.show()"
   ],
   "execution_count":null,
   "outputs":[
    
   ],
   "metadata":{
    "datalore":{
     "node_id":"eMZWDhHYd9It36oMVzwFV5",
     "type":"CODE",
     "hide_input_from_viewers":true,
     "hide_output_from_viewers":true
    }
   }
  },
  {
   "cell_type":"markdown",
   "source":[
    "As we can see, it is back to normalcy."
   ],
   "attachments":{
    
   },
   "metadata":{
    "datalore":{
     "node_id":"sbLSvJWgUDkqhfOYxJIH1g",
     "type":"MD",
     "hide_input_from_viewers":true,
     "hide_output_from_viewers":true
    }
   }
  },
  {
   "cell_type":"markdown",
   "source":[
    "## Regression"
   ],
   "attachments":{
    
   },
   "metadata":{
    "datalore":{
     "node_id":"Nt5H84Hdmlvm80GQ4YkIVc",
     "type":"MD",
     "hide_input_from_viewers":true,
     "hide_output_from_viewers":true
    }
   }
  },
  {
   "cell_type":"markdown",
   "source":[
    "Now, let us use regression to further analyse our data."
   ],
   "attachments":{
    
   },
   "metadata":{
    "datalore":{
     "node_id":"7xkWd9H9rlWKCX5nBhCYsn",
     "type":"MD",
     "hide_input_from_viewers":true,
     "hide_output_from_viewers":true
    }
   }
  },
  {
   "cell_type":"code",
   "source":[
    "from sklearn.linear_model import LinearRegression as LinReg\n",
    "from sklearn.preprocessing import PolynomialFeatures as PolyReg"
   ],
   "execution_count":null,
   "outputs":[
    
   ],
   "metadata":{
    "datalore":{
     "node_id":"CEVh58ceQAhA6mppMzIpQM",
     "type":"CODE",
     "hide_input_from_viewers":true,
     "hide_output_from_viewers":true
    }
   }
  },
  {
   "cell_type":"markdown",
   "source":[
    "Let us define a method to do the necessary linear regression using sklearn and plots it."
   ],
   "attachments":{
    
   },
   "metadata":{
    "datalore":{
     "node_id":"iniBdGxLZJ4z1Ba1MHUEcT",
     "type":"MD",
     "hide_input_from_viewers":true,
     "hide_output_from_viewers":true
    }
   }
  },
  {
   "cell_type":"code",
   "source":[
    "def linreg(x, y, deco1):\n",
    "    reg0 = LinReg()\n",
    "    reg0.fit(np.array(x).reshape(-1, 1), y)\n",
    "\n",
    "    c0 = reg0.intercept_\n",
    "    m0 = reg0.coef_\n",
    "\n",
    "    plt.plot(x, y, deco1)\n",
    "    x_plot = np.linspace(1, len(x), 10)\n",
    "    y_plot = c0 + m0 * x_plot\n",
    "    plt.plot(x_plot, y_plot)"
   ],
   "execution_count":null,
   "outputs":[
    
   ],
   "metadata":{
    "datalore":{
     "node_id":"JO2dDRkIaYyVz2GFTY7zaf",
     "type":"CODE",
     "hide_input_from_viewers":true,
     "hide_output_from_viewers":true
    }
   }
  },
  {
   "cell_type":"code",
   "source":[
    "linreg(last_rating, minco, '8-.')"
   ],
   "execution_count":null,
   "outputs":[
    
   ],
   "metadata":{
    "datalore":{
     "node_id":"WUl9EtD13PXEgMzwEvyzhj",
     "type":"CODE",
     "hide_input_from_viewers":true,
     "hide_output_from_viewers":true
    }
   }
  },
  {
   "cell_type":"markdown",
   "source":[
    "Greatly Underfitted... But, It was not unexpected.\n",
    "So let us try to use polynomial regression.                                  "
   ],
   "attachments":{
    
   },
   "metadata":{
    "datalore":{
     "node_id":"KgycFGVhAWk2N1pkw4yFGS",
     "type":"MD",
     "hide_input_from_viewers":true,
     "hide_output_from_viewers":true
    }
   }
  },
  {
   "cell_type":"markdown",
   "source":[
    "Let us define a method that can do the necessary regression and plot it using sklearn."
   ],
   "attachments":{
    
   },
   "metadata":{
    "datalore":{
     "node_id":"MWN8JzhWGW3QUnmi68DB86",
     "type":"MD",
     "hide_input_from_viewers":true,
     "hide_output_from_viewers":true
    }
   }
  },
  {
   "cell_type":"code",
   "source":[
    "def pol_reg(deg, g_title, x, x0, x1, x_title, y, y_title, deco1, deco2):\n",
    "    fig, ax = plt.subplots()\n",
    "    ax.set_title(g_title, fontsize=20)\n",
    "    ax.set_xlabel(x_title, fontsize=12)\n",
    "    ax.set_ylabel(y_title, fontsize=12)\n",
    "\n",
    "    poly_feat = PolyReg(degree=deg, include_bias=False)\n",
    "    x_poly = poly_feat.fit_transform(np.array(x).reshape(-1, 1))\n",
    "\n",
    "    reg = LinReg()\n",
    "    reg.fit(x_poly, y)\n",
    "\n",
    "    c = reg.intercept_\n",
    "    co = []\n",
    "    for i in range(0, deg):\n",
    "        co.append(reg.coef_[i])\n",
    "\n",
    "    plt.plot(x, y, deco1)\n",
    "    x_plot = np.linspace(x0, x1, 250)\n",
    "    y_plot = []\n",
    "\n",
    "    for i in x_plot:\n",
    "        temp = c\n",
    "        k = 1\n",
    "        for j in range(0, deg):\n",
    "            temp += co[j] * pow(i, k)\n",
    "            k += 1\n",
    "        y_plot.append(temp)\n",
    "\n",
    "    plt.plot(x_plot, y_plot, deco2)\n",
    "    plt.show()"
   ],
   "execution_count":null,
   "outputs":[
    
   ],
   "metadata":{
    "datalore":{
     "node_id":"wbcaSHqBxAPisVY7WxvSoO",
     "type":"CODE",
     "hide_input_from_viewers":true,
     "hide_output_from_viewers":true
    }
   }
  },
  {
   "cell_type":"markdown",
   "source":[
    "Now, let us plot the graphs between **Last Rating** and **Average Monthly Income** for various degrees and find the optimal degree."
   ],
   "attachments":{
    
   },
   "metadata":{
    "datalore":{
     "node_id":"JHpvK8cnrY9S4bm4BZxbGC",
     "type":"MD",
     "hide_input_from_viewers":true,
     "hide_output_from_viewers":true
    }
   }
  },
  {
   "cell_type":"code",
   "source":[
    "for i in range(2, 7):\n",
    "    pol_reg(i, f'Degree {i}', last_rating, last_rating[0], last_rating[-1], 'Last Rating', minco,\n",
    "            'Average Monthly Income', '8', '')"
   ],
   "execution_count":null,
   "outputs":[
    
   ],
   "metadata":{
    "datalore":{
     "node_id":"0LZiAQEBruHK6oIyBiL3Vb",
     "type":"CODE",
     "hide_input_from_viewers":true,
     "hide_output_from_viewers":true
    }
   }
  },
  {
   "cell_type":"markdown",
   "source":[
    "As we can see, Degree 4 seems to be a good choice."
   ],
   "attachments":{
    
   },
   "metadata":{
    "datalore":{
     "node_id":"dowUIIYGDaxPBWKx0aGfuq",
     "type":"MD",
     "hide_input_from_viewers":true,
     "hide_output_from_viewers":true
    }
   }
  },
  {
   "cell_type":"markdown",
   "source":[
    "Now, let us do the same, but with **Age** instead of **Last Rating**.<br>\n",
    "Note: We will be excluding **Mr. ABC197**."
   ],
   "attachments":{
    
   },
   "metadata":{
    "datalore":{
     "node_id":"v0F02UL4hCw2BgQXeUncfb",
     "type":"MD",
     "hide_input_from_viewers":true,
     "hide_output_from_viewers":true
    }
   }
  },
  {
   "cell_type":"code",
   "source":[
    "for i in range(2, 7):\n",
    "    pol_reg(i, f'Degree {i}', cp_age, sorted(age)[0] - 2, sorted(age)[-1], 'Age', cp_minco0, 'Average Monthly Income',\n",
    "            '*', '')"
   ],
   "execution_count":null,
   "outputs":[
    
   ],
   "metadata":{
    "datalore":{
     "node_id":"dRwYdTSavo6t7aS8TJanz5",
     "type":"CODE",
     "hide_input_from_viewers":true,
     "hide_output_from_viewers":true
    }
   }
  },
  {
   "cell_type":"markdown",
   "source":[
    "In this case, we can say that Degree 5, seems to be the best fit.<br>\n",
    "Interestingly, according to this particular plot, the **Average Monthly Income** at Age 54 is close to the **Monthly Income** of Mr. ABC197 who is also 54 years old."
   ],
   "attachments":{
    
   },
   "metadata":{
    "datalore":{
     "node_id":"kN2JTfhDlCJaba08CNvPaQ",
     "type":"MD",
     "hide_input_from_viewers":true,
     "hide_output_from_viewers":true
    }
   }
  },
  {
   "cell_type":"markdown",
   "source":[
    "Welp, I guess I can not think of any more of these graphs... So\n",
    "## Thank You."
   ],
   "attachments":{
    
   },
   "metadata":{
    "datalore":{
     "node_id":"TMoWSZR3FQS9hDwmuYpHRF",
     "type":"MD",
     "hide_input_from_viewers":true,
     "hide_output_from_viewers":true
    }
   }
  }
 ],
 "metadata":{
  "kernelspec":{
   "display_name":"Python",
   "language":"python",
   "name":"python"
  },
  "datalore":{
   "computation_mode":"REACTIVE",
   "package_manager":"pip",
   "base_environment":"default",
   "packages":[
    
   ],
   "report_row_ids":[
    
   ],
   "version":3
  }
 },
 "nbformat":4,
 "nbformat_minor":4
}